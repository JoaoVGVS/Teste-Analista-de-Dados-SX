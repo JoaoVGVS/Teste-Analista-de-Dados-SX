{
 "cells": [
  {
   "cell_type": "code",
   "execution_count": null,
   "metadata": {
    "vscode": {
     "languageId": "powershell"
    }
   },
   "outputs": [],
   "source": [
    "#Criação do container do container no Docker\n",
    "\n",
    "docker run --name mysql_teste_sx -e MYSQL_ROOT_PASSWORD=123 -e MYSQL_DATABASE=bd_enem -p 3306:3306 -d mysql:latest"
   ]
  },
  {
   "cell_type": "code",
   "execution_count": null,
   "metadata": {},
   "outputs": [],
   "source": [
    "#Imports de bibliotecas e conexão com o BD\n",
    "\n",
    "#Imports de bibliotecas\n",
    "import pandas as pd\n",
    "from sqlalchemy import create_engine, Column, CHAR, VARCHAR, Boolean, Integer\n",
    "from sqlalchemy.dialects.mysql import TINYINT, SMALLINT, BIGINT, DECIMAL\n",
    "from sqlalchemy.ext.declarative import declarative_base\n",
    "import numpy as np\n",
    "\n",
    "\n",
    "#Parâmetros\n",
    "usuario = 'root'\n",
    "senha = '123'\n",
    "host = 'localhost'\n",
    "banco = 'bd_enem'\n",
    "\n",
    "#Conexão\n",
    "engine = create_engine(f'mysql+pymysql://{usuario}:{senha}@{host}/{banco}')"
   ]
  }
 ],
 "metadata": {
  "language_info": {
   "name": "python"
  }
 },
 "nbformat": 4,
 "nbformat_minor": 2
}
